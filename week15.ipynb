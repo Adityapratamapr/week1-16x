{
 "cells": [
  {
   "cell_type": "code",
   "execution_count": 11,
   "id": "a23e00e9-cf23-4d6c-8ca4-5cce535bf1a3",
   "metadata": {},
   "outputs": [
    {
     "name": "stdout",
     "output_type": "stream",
     "text": [
      "Dimensi Feature: (150, 4)\n",
      "Class: {0, 1, 2}\n"
     ]
    }
   ],
   "source": [
    "from sklearn.datasets import load_iris\n",
    "\n",
    "X, y = load_iris(return_X_y=True)\n",
    "\n",
    "print(f'Dimensi Feature: {X.shape}')\n",
    "print(f'Class: {set(y)}')\n"
   ]
  },
  {
   "cell_type": "code",
   "execution_count": 25,
   "id": "71765965-8d15-453e-a5e7-5dd96eec7f9f",
   "metadata": {},
   "outputs": [
    {
     "ename": "SyntaxError",
     "evalue": "invalid syntax. Perhaps you forgot a comma? (3215805877.py, line 3)",
     "output_type": "error",
     "traceback": [
      "\u001b[1;36m  Cell \u001b[1;32mIn[25], line 3\u001b[1;36m\u001b[0m\n\u001b[1;33m    test_size=0.3\u001b[0m\n\u001b[1;37m              ^\u001b[0m\n\u001b[1;31mSyntaxError\u001b[0m\u001b[1;31m:\u001b[0m invalid syntax. Perhaps you forgot a comma?\n"
     ]
    }
   ],
   "source": [
    "from sklearn.model_selection import train_test_split\n",
    "X_train, X_test, y_train, y_test = train_test_split(x,\n",
    "test_size=0.3\n",
    "random_state=0)\n"
   ]
  },
  {
   "cell_type": "code",
   "execution_count": 9,
   "id": "100b75f8-5cf5-42bb-8d35-0ff491b68641",
   "metadata": {},
   "outputs": [
    {
     "ename": "SyntaxError",
     "evalue": "cannot assign to expression here. Maybe you meant '==' instead of '='? (3268019523.py, line 2)",
     "output_type": "error",
     "traceback": [
      "\u001b[1;36m  Cell \u001b[1;32mIn[9], line 2\u001b[1;36m\u001b[0m\n\u001b[1;33m    y-pred = model.predict (X_test)\u001b[0m\n\u001b[1;37m    ^\u001b[0m\n\u001b[1;31mSyntaxError\u001b[0m\u001b[1;31m:\u001b[0m cannot assign to expression here. Maybe you meant '==' instead of '='?\n"
     ]
    }
   ],
   "source": [
    "from sklearn.metrics import classification_report\n",
    "y-pred = model.predict (X_test)\n",
    "print(classification_report (y_test, y_pred))\n",
    "precision\n",
    "recall f1-score\n",
    "support\n",
    "1.00\n",
    "1.00\n",
    "1.00\n",
    "16\n",
    "0.97\n",
    "1.00\n",
    "0.94\n",
    "18\n",
    "2\n",
    "0.92\n",
    "1.00\n",
    "0.96\n",
    "11\n",
    "accuracy\n",
    "0.98\n",
    "45\n",
    "0.97\n",
    "0.98\n",
    "0.98\n",
    "45\n",
    "macro avg\n",
    "weighted avg\n",
    "0.98\n",
    "0.98\n",
    "0.98\n",
    "45\n"
   ]
  },
  {
   "cell_type": "code",
   "execution_count": null,
   "id": "5d7871de-d64f-4f2f-bdd3-a89c5daff51e",
   "metadata": {},
   "outputs": [],
   "source": []
  }
 ],
 "metadata": {
  "kernelspec": {
   "display_name": "Python 3 (ipykernel)",
   "language": "python",
   "name": "python3"
  },
  "language_info": {
   "codemirror_mode": {
    "name": "ipython",
    "version": 3
   },
   "file_extension": ".py",
   "mimetype": "text/x-python",
   "name": "python",
   "nbconvert_exporter": "python",
   "pygments_lexer": "ipython3",
   "version": "3.11.7"
  }
 },
 "nbformat": 4,
 "nbformat_minor": 5
}
