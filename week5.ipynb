{
 "cells": [
  {
   "cell_type": "code",
   "execution_count": 4,
   "id": "adf72549-6920-4063-a924-1a25b65426aa",
   "metadata": {},
   "outputs": [
    {
     "data": {
      "text/html": [
       "<div>\n",
       "<style scoped>\n",
       "    .dataframe tbody tr th:only-of-type {\n",
       "        vertical-align: middle;\n",
       "    }\n",
       "\n",
       "    .dataframe tbody tr th {\n",
       "        vertical-align: top;\n",
       "    }\n",
       "\n",
       "    .dataframe thead th {\n",
       "        text-align: right;\n",
       "    }\n",
       "</style>\n",
       "<table border=\"1\" class=\"dataframe\">\n",
       "  <thead>\n",
       "    <tr style=\"text-align: right;\">\n",
       "      <th></th>\n",
       "      <th>diameter</th>\n",
       "      <th>harga</th>\n",
       "    </tr>\n",
       "  </thead>\n",
       "  <tbody>\n",
       "    <tr>\n",
       "      <th>0</th>\n",
       "      <td>6</td>\n",
       "      <td>7.0</td>\n",
       "    </tr>\n",
       "    <tr>\n",
       "      <th>1</th>\n",
       "      <td>8</td>\n",
       "      <td>9.0</td>\n",
       "    </tr>\n",
       "    <tr>\n",
       "      <th>2</th>\n",
       "      <td>10</td>\n",
       "      <td>13.0</td>\n",
       "    </tr>\n",
       "    <tr>\n",
       "      <th>3</th>\n",
       "      <td>14</td>\n",
       "      <td>17.5</td>\n",
       "    </tr>\n",
       "    <tr>\n",
       "      <th>4</th>\n",
       "      <td>18</td>\n",
       "      <td>18.0</td>\n",
       "    </tr>\n",
       "  </tbody>\n",
       "</table>\n",
       "</div>"
      ],
      "text/plain": [
       "   diameter  harga\n",
       "0         6    7.0\n",
       "1         8    9.0\n",
       "2        10   13.0\n",
       "3        14   17.5\n",
       "4        18   18.0"
      ]
     },
     "execution_count": 4,
     "metadata": {},
     "output_type": "execute_result"
    }
   ],
   "source": [
    "import pandas as pd\n",
    "\n",
    "pizza = {'diameter': [6, 8, 10, 14, 18],\n",
    "         'harga' : [7, 9, 13, 17.5, 18]}\n",
    "\n",
    "pizza_df = pd.DataFrame (pizza)\n",
    "pizza_df"
   ]
  },
  {
   "cell_type": "code",
   "execution_count": 12,
   "id": "516212c6-c66c-4ab9-9fc0-8d0470ac031e",
   "metadata": {},
   "outputs": [
    {
     "data": {
      "image/png": "[encoded data removed]",
      "text/plain": [
       "<Figure size 640x480 with 1 Axes>"
      ]
     },
     "metadata": {},
     "output_type": "display_data"
    }
   ],
   "source": [
    "import matplotlib.pyplot as plt\n",
    "\n",
    "pizza_df.plot(kind='scatter', x='diameter', y='harga')\n",
    "\n",
    "plt.title('Perbandingan Diameter dan  Harga Pizza')\n",
    "plt.xlabel('Diameter (inch)')\n",
    "plt.ylabel('Harga (dollar)')\n",
    "plt.xlim(0, 25)\n",
    "plt.ylim(0, 25)\n",
    "plt.grid(True)\n",
    "plt.show()"
   ]
  },
  {
   "cell_type": "code",
   "execution_count": 23,
   "id": "d81e5607-304e-4a10-ad7b-b0a2eab4d4a3",
   "metadata": {},
   "outputs": [
    {
     "name": "stdout",
     "output_type": "stream",
     "text": [
      "x: [ 6  8 10 14 18]\n",
      "y: [ 7.   9.  13.  17.5 18. ]\n"
     ]
    }
   ],
   "source": [
    "import numpy as np\n",
    "\n",
    "x = np.array(pizza_df['diameter'])\n",
    "y = np.array(pizza_df['harga'])\n",
    "\n",
    "print(f'x: {x}')\n",
    "print(f'y: {y}')"
   ]
  },
  {
   "cell_type": "code",
   "execution_count": 25,
   "id": "9ec0e2b8-3787-496c-b468-9185ac572597",
   "metadata": {},
   "outputs": [
    {
     "data": {
      "text/plain": [
       "(5, 1)"
      ]
     },
     "execution_count": 25,
     "metadata": {},
     "output_type": "execute_result"
    }
   ],
   "source": [
    "x = x.reshape(-1,1)\n",
    "x.shape"
   ]
  },
  {
   "cell_type": "code",
   "execution_count": 27,
   "id": "54eddbfd-acd2-4744-a682-fadeb73d4442",
   "metadata": {},
   "outputs": [
    {
     "data": {
      "text/plain": [
       "array([[ 6],\n",
       "       [ 8],\n",
       "       [10],\n",
       "       [14],\n",
       "       [18]])"
      ]
     },
     "execution_count": 27,
     "metadata": {},
     "output_type": "execute_result"
    }
   ],
   "source": [
    "x"
   ]
  },
  {
   "cell_type": "code",
   "execution_count": 29,
   "id": "25602616-4083-4931-87bc-fbf8a2e8302c",
   "metadata": {},
   "outputs": [
    {
     "data": {
      "text/html": [
       "<style>#sk-container-id-1 {color: black;}#sk-container-id-1 pre{padding: 0;}#sk-container-id-1 div.sk-toggleable {background-color: white;}#sk-container-id-1 label.sk-toggleable__label {cursor: pointer;display: block;width: 100%;margin-bottom: 0;padding: 0.3em;box-sizing: border-box;text-align: center;}#sk-container-id-1 label.sk-toggleable__label-arrow:before {content: \"▸\";float: left;margin-right: 0.25em;color: #696969;}#sk-container-id-1 label.sk-toggleable__label-arrow:hover:before {color: black;}#sk-container-id-1 div.sk-estimator:hover label.sk-toggleable__label-arrow:before {color: black;}#sk-container-id-1 div.sk-toggleable__content {max-height: 0;max-width: 0;overflow: hidden;text-align: left;background-color: #f0f8ff;}#sk-container-id-1 div.sk-toggleable__content pre {margin: 0.2em;color: black;border-radius: 0.25em;background-color: #f0f8ff;}#sk-container-id-1 input.sk-toggleable__control:checked~div.sk-toggleable__content {max-height: 200px;max-width: 100%;overflow: auto;}#sk-container-id-1 input.sk-toggleable__control:checked~label.sk-toggleable__label-arrow:before {content: \"▾\";}#sk-container-id-1 div.sk-estimator input.sk-toggleable__control:checked~label.sk-toggleable__label {background-color: #d4ebff;}#sk-container-id-1 div.sk-label input.sk-toggleable__control:checked~label.sk-toggleable__label {background-color: #d4ebff;}#sk-container-id-1 input.sk-hidden--visually {border: 0;clip: rect(1px 1px 1px 1px);clip: rect(1px, 1px, 1px, 1px);height: 1px;margin: -1px;overflow: hidden;padding: 0;position: absolute;width: 1px;}#sk-container-id-1 div.sk-estimator {font-family: monospace;background-color: #f0f8ff;border: 1px dotted black;border-radius: 0.25em;box-sizing: border-box;margin-bottom: 0.5em;}#sk-container-id-1 div.sk-estimator:hover {background-color: #d4ebff;}#sk-container-id-1 div.sk-parallel-item::after {content: \"\";width: 100%;border-bottom: 1px solid gray;flex-grow: 1;}#sk-container-id-1 div.sk-label:hover label.sk-toggleable__label {background-color: #d4ebff;}#sk-container-id-1 div.sk-serial::before {content: \"\";position: absolute;border-left: 1px solid gray;box-sizing: border-box;top: 0;bottom: 0;left: 50%;z-index: 0;}#sk-container-id-1 div.sk-serial {display: flex;flex-direction: column;align-items: center;background-color: white;padding-right: 0.2em;padding-left: 0.2em;position: relative;}#sk-container-id-1 div.sk-item {position: relative;z-index: 1;}#sk-container-id-1 div.sk-parallel {display: flex;align-items: stretch;justify-content: center;background-color: white;position: relative;}#sk-container-id-1 div.sk-item::before, #sk-container-id-1 div.sk-parallel-item::before {content: \"\";position: absolute;border-left: 1px solid gray;box-sizing: border-box;top: 0;bottom: 0;left: 50%;z-index: -1;}#sk-container-id-1 div.sk-parallel-item {display: flex;flex-direction: column;z-index: 1;position: relative;background-color: white;}#sk-container-id-1 div.sk-parallel-item:first-child::after {align-self: flex-end;width: 50%;}#sk-container-id-1 div.sk-parallel-item:last-child::after {align-self: flex-start;width: 50%;}#sk-container-id-1 div.sk-parallel-item:only-child::after {width: 0;}#sk-container-id-1 div.sk-dashed-wrapped {border: 1px dashed gray;margin: 0 0.4em 0.5em 0.4em;box-sizing: border-box;padding-bottom: 0.4em;background-color: white;}#sk-container-id-1 div.sk-label label {font-family: monospace;font-weight: bold;display: inline-block;line-height: 1.2em;}#sk-container-id-1 div.sk-label-container {text-align: center;}#sk-container-id-1 div.sk-container {/* jupyter's `normalize.less` sets `[hidden] { display: none; }` but bootstrap.min.css set `[hidden] { display: none !important; }` so we also need the `!important` here to be able to override the default hidden behavior on the sphinx rendered scikit-learn.org. See: https://github.com/scikit-learn/scikit-learn/issues/21755 */display: inline-block !important;position: relative;}#sk-container-id-1 div.sk-text-repr-fallback {display: none;}</style><div id=\"sk-container-id-1\" class=\"sk-top-container\"><div class=\"sk-text-repr-fallback\"><pre>LinearRegression()</pre><b>In a Jupyter environment, please rerun this cell to show the HTML representation or trust the notebook. <br />On GitHub, the HTML representation is unable to render, please try loading this page with nbviewer.org.</b></div><div class=\"sk-container\" hidden><div class=\"sk-item\"><div class=\"sk-estimator sk-toggleable\"><input class=\"sk-toggleable__control sk-hidden--visually\" id=\"sk-estimator-id-1\" type=\"checkbox\" checked><label for=\"sk-estimator-id-1\" class=\"sk-toggleable__label sk-toggleable__label-arrow\">LinearRegression</label><div class=\"sk-toggleable__content\"><pre>LinearRegression()</pre></div></div></div></div></div>"
      ],
      "text/plain": [
       "LinearRegression()"
      ]
     },
     "execution_count": 29,
     "metadata": {},
     "output_type": "execute_result"
    }
   ],
   "source": [
    "from sklearn.linear_model import LinearRegression\n",
    "\n",
    "model = LinearRegression()\n",
    "model.fit(x,y)"
   ]
  },
  {
   "cell_type": "code",
   "execution_count": 32,
   "id": "e179b90b-3415-417b-a606-29c680e2dc82",
   "metadata": {},
   "outputs": [],
   "source": [
    "X_vis = np.array ( [0, 25]) . reshape (-1 , 1)\n",
    "y_vis = model.predict (X_vis)"
   ]
  },
  {
   "cell_type": "code",
   "execution_count": 36,
   "id": "f5d849c0-52d0-4fe9-a2a8-3adc8a6b174b",
   "metadata": {},
   "outputs": [
    {
     "data": {
      "image/png": "[encoded data removed]",
      "text/plain": [
       "<Figure size 640x480 with 1 Axes>"
      ]
     },
     "metadata": {},
     "output_type": "display_data"
    }
   ],
   "source": [
    "plt.scatter(x,y)\n",
    "plt.plot (X_vis, y_vis, '-r')\n",
    "\n",
    "plt.title (' Perbandingan Diameter dan Harga Pizza')\n",
    "plt.xlabel (' Diameter (inch) ')\n",
    "plt.ylabel (' Harga (dollar)')\n",
    "plt.xlim (0, 25)\n",
    "plt.ylim(0, 25)\n",
    "plt.grid (True)\n",
    "plt.show ()"
   ]
  },
  {
   "cell_type": "code",
   "execution_count": 46,
   "id": "9ab37ad5-aeea-42da-9cc4-68a6f515265c",
   "metadata": {},
   "outputs": [
    {
     "name": "stdout",
     "output_type": "stream",
     "text": [
      "intercept: 1.965517241379315\n",
      "slope: [0.9762931]\n"
     ]
    }
   ],
   "source": [
    "print (f'intercept: {model.intercept_}')\n",
    "print (f'slope: {model. coef_}')"
   ]
  },
  {
   "cell_type": "code",
   "execution_count": 50,
   "id": "91c7a214-1d96-4575-ba34-1d36cce1ee51",
   "metadata": {},
   "outputs": [
    {
     "name": "stdout",
     "output_type": "stream",
     "text": [
      "x:\n",
      "[[ 6]\n",
      " [ 8]\n",
      " [10]\n",
      " [14]\n",
      " [18]]\n",
      "\n",
      "x flatten: [ 6  8 10 14 18]\n",
      "\n",
      "y: [ 7.   9.  13.  17.5 18. ]\n"
     ]
    }
   ],
   "source": [
    "print(f'x:\\n{x}\\n')\n",
    "print (f'x flatten: {x.flatten()}\\n')\n",
    "print (f'y: {y}')"
   ]
  },
  {
   "cell_type": "code",
   "execution_count": 62,
   "id": "9bec107c-a1de-400e-8dee-ef1980ed4169",
   "metadata": {},
   "outputs": [
    {
     "name": "stdout",
     "output_type": "stream",
     "text": [
      "variance: 23.2\n"
     ]
    }
   ],
   "source": [
    "variance_x = np.var(x.flatten(), ddof=1)\n",
    "\n",
    "print(f'variance: {variance_x}')"
   ]
  },
  {
   "cell_type": "code",
   "execution_count": 64,
   "id": "015b6636-1792-4130-be15-ca6a7b94daf7",
   "metadata": {},
   "outputs": [
    {
     "data": {
      "text/plain": [
       "array([[23.2 , 22.65],\n",
       "       [22.65, 24.3 ]])"
      ]
     },
     "execution_count": 64,
     "metadata": {},
     "output_type": "execute_result"
    }
   ],
   "source": [
    "np.cov(x.flatten(),y)"
   ]
  },
  {
   "cell_type": "code",
   "execution_count": 66,
   "id": "72d24c94-633a-4e2b-a477-f8565d254eda",
   "metadata": {},
   "outputs": [
    {
     "name": "stdout",
     "output_type": "stream",
     "text": [
      "covariance: 22.650000000000002\n"
     ]
    }
   ],
   "source": [
    "covariance_xy = np.cov(x.transpose(), y)[0][1]\n",
    "\n",
    "print(f'covariance: {covariance_xy}')"
   ]
  },
  {
   "cell_type": "code",
   "execution_count": 68,
   "id": "8d49c6fc-ca26-400a-9f00-6cd6ca7fc99a",
   "metadata": {},
   "outputs": [
    {
     "name": "stdout",
     "output_type": "stream",
     "text": [
      "slope:0.976293103448276\n"
     ]
    }
   ],
   "source": [
    "slope = covariance_xy / variance_x\n",
    "\n",
    "print(f'slope:{slope}')"
   ]
  },
  {
   "cell_type": "code",
   "execution_count": 70,
   "id": "38cf5f80-d143-45e4-8cb5-a994d2e9e529",
   "metadata": {},
   "outputs": [
    {
     "name": "stdout",
     "output_type": "stream",
     "text": [
      "intercept: 1.9655172413793096\n"
     ]
    }
   ],
   "source": [
    "intercept = np.mean(y) - slope * np.mean(x)\n",
    "\n",
    "print(f'intercept: {intercept}')"
   ]
  },
  {
   "cell_type": "code",
   "execution_count": 75,
   "id": "2d31d0e3-e5f2-4e0d-83f6-8fdf72058e43",
   "metadata": {},
   "outputs": [
    {
     "data": {
      "text/plain": [
       "array([[12],\n",
       "       [20],\n",
       "       [23]])"
      ]
     },
     "execution_count": 75,
     "metadata": {},
     "output_type": "execute_result"
    }
   ],
   "source": [
    "diameter_pizza = np.array ( [12, 20, 23]).reshape(-1, 1)\n",
    "diameter_pizza"
   ]
  },
  {
   "cell_type": "code",
   "execution_count": 77,
   "id": "ccdb42d9-5dbc-414c-8f8d-0f218b876a63",
   "metadata": {},
   "outputs": [
    {
     "data": {
      "text/plain": [
       "array([13.68103448, 21.49137931, 24.42025862])"
      ]
     },
     "execution_count": 77,
     "metadata": {},
     "output_type": "execute_result"
    }
   ],
   "source": [
    "prediksi_harga = model.predict (diameter_pizza)\n",
    "prediksi_harga"
   ]
  },
  {
   "cell_type": "code",
   "execution_count": 91,
   "id": "750770d3-5e82-49c7-a1d1-9577880fb87d",
   "metadata": {},
   "outputs": [
    {
     "name": "stdout",
     "output_type": "stream",
     "text": [
      "Diameter:[12] predilsi harga: 13.681034482758621\n",
      "Diameter:[20] predilsi harga: 21.491379310344826\n",
      "Diameter:[23] predilsi harga: 24.42025862068965\n"
     ]
    }
   ],
   "source": [
    "for dmtr, hrg in zip(diameter_pizza, prediksi_harga):\n",
    "    print(f'Diameter:{dmtr} predilsi harga: {hrg}')\n"
   ]
  },
  {
   "cell_type": "code",
   "execution_count": 98,
   "id": "66933e6f-2c3b-4d36-a9c2-452b395dcfb2",
   "metadata": {},
   "outputs": [],
   "source": [
    "X_train = np.array ( [6, 8, 10, 14, 18]) .reshape (-1, 1)\n",
    "y_train = np.array( [7, 9, 13, 17.5, 18])\n",
    "\n",
    "X_test = np.array( [8, 9, 11, 16, 12]).reshape(-1, 1)\n",
    "y_test = np.array ( [11, 8.5, 15, 18, 11])"
   ]
  },
  {
   "cell_type": "code",
   "execution_count": 102,
   "id": "9f81388e-2bf2-490b-a0ea-3e9b62f3ae28",
   "metadata": {},
   "outputs": [
    {
     "data": {
      "text/html": [
       "<style>#sk-container-id-2 {color: black;}#sk-container-id-2 pre{padding: 0;}#sk-container-id-2 div.sk-toggleable {background-color: white;}#sk-container-id-2 label.sk-toggleable__label {cursor: pointer;display: block;width: 100%;margin-bottom: 0;padding: 0.3em;box-sizing: border-box;text-align: center;}#sk-container-id-2 label.sk-toggleable__label-arrow:before {content: \"▸\";float: left;margin-right: 0.25em;color: #696969;}#sk-container-id-2 label.sk-toggleable__label-arrow:hover:before {color: black;}#sk-container-id-2 div.sk-estimator:hover label.sk-toggleable__label-arrow:before {color: black;}#sk-container-id-2 div.sk-toggleable__content {max-height: 0;max-width: 0;overflow: hidden;text-align: left;background-color: #f0f8ff;}#sk-container-id-2 div.sk-toggleable__content pre {margin: 0.2em;color: black;border-radius: 0.25em;background-color: #f0f8ff;}#sk-container-id-2 input.sk-toggleable__control:checked~div.sk-toggleable__content {max-height: 200px;max-width: 100%;overflow: auto;}#sk-container-id-2 input.sk-toggleable__control:checked~label.sk-toggleable__label-arrow:before {content: \"▾\";}#sk-container-id-2 div.sk-estimator input.sk-toggleable__control:checked~label.sk-toggleable__label {background-color: #d4ebff;}#sk-container-id-2 div.sk-label input.sk-toggleable__control:checked~label.sk-toggleable__label {background-color: #d4ebff;}#sk-container-id-2 input.sk-hidden--visually {border: 0;clip: rect(1px 1px 1px 1px);clip: rect(1px, 1px, 1px, 1px);height: 1px;margin: -1px;overflow: hidden;padding: 0;position: absolute;width: 1px;}#sk-container-id-2 div.sk-estimator {font-family: monospace;background-color: #f0f8ff;border: 1px dotted black;border-radius: 0.25em;box-sizing: border-box;margin-bottom: 0.5em;}#sk-container-id-2 div.sk-estimator:hover {background-color: #d4ebff;}#sk-container-id-2 div.sk-parallel-item::after {content: \"\";width: 100%;border-bottom: 1px solid gray;flex-grow: 1;}#sk-container-id-2 div.sk-label:hover label.sk-toggleable__label {background-color: #d4ebff;}#sk-container-id-2 div.sk-serial::before {content: \"\";position: absolute;border-left: 1px solid gray;box-sizing: border-box;top: 0;bottom: 0;left: 50%;z-index: 0;}#sk-container-id-2 div.sk-serial {display: flex;flex-direction: column;align-items: center;background-color: white;padding-right: 0.2em;padding-left: 0.2em;position: relative;}#sk-container-id-2 div.sk-item {position: relative;z-index: 1;}#sk-container-id-2 div.sk-parallel {display: flex;align-items: stretch;justify-content: center;background-color: white;position: relative;}#sk-container-id-2 div.sk-item::before, #sk-container-id-2 div.sk-parallel-item::before {content: \"\";position: absolute;border-left: 1px solid gray;box-sizing: border-box;top: 0;bottom: 0;left: 50%;z-index: -1;}#sk-container-id-2 div.sk-parallel-item {display: flex;flex-direction: column;z-index: 1;position: relative;background-color: white;}#sk-container-id-2 div.sk-parallel-item:first-child::after {align-self: flex-end;width: 50%;}#sk-container-id-2 div.sk-parallel-item:last-child::after {align-self: flex-start;width: 50%;}#sk-container-id-2 div.sk-parallel-item:only-child::after {width: 0;}#sk-container-id-2 div.sk-dashed-wrapped {border: 1px dashed gray;margin: 0 0.4em 0.5em 0.4em;box-sizing: border-box;padding-bottom: 0.4em;background-color: white;}#sk-container-id-2 div.sk-label label {font-family: monospace;font-weight: bold;display: inline-block;line-height: 1.2em;}#sk-container-id-2 div.sk-label-container {text-align: center;}#sk-container-id-2 div.sk-container {/* jupyter's `normalize.less` sets `[hidden] { display: none; }` but bootstrap.min.css set `[hidden] { display: none !important; }` so we also need the `!important` here to be able to override the default hidden behavior on the sphinx rendered scikit-learn.org. See: https://github.com/scikit-learn/scikit-learn/issues/21755 */display: inline-block !important;position: relative;}#sk-container-id-2 div.sk-text-repr-fallback {display: none;}</style><div id=\"sk-container-id-2\" class=\"sk-top-container\"><div class=\"sk-text-repr-fallback\"><pre>LinearRegression()</pre><b>In a Jupyter environment, please rerun this cell to show the HTML representation or trust the notebook. <br />On GitHub, the HTML representation is unable to render, please try loading this page with nbviewer.org.</b></div><div class=\"sk-container\" hidden><div class=\"sk-item\"><div class=\"sk-estimator sk-toggleable\"><input class=\"sk-toggleable__control sk-hidden--visually\" id=\"sk-estimator-id-2\" type=\"checkbox\" checked><label for=\"sk-estimator-id-2\" class=\"sk-toggleable__label sk-toggleable__label-arrow\">LinearRegression</label><div class=\"sk-toggleable__content\"><pre>LinearRegression()</pre></div></div></div></div></div>"
      ],
      "text/plain": [
       "LinearRegression()"
      ]
     },
     "execution_count": 102,
     "metadata": {},
     "output_type": "execute_result"
    }
   ],
   "source": [
    "model = LinearRegression()\n",
    "model.fit(X_train, y_train)"
   ]
  },
  {
   "cell_type": "code",
   "execution_count": 104,
   "id": "9d799bf2-43a2-4c68-855f-25ead1e6441e",
   "metadata": {},
   "outputs": [
    {
     "name": "stdout",
     "output_type": "stream",
     "text": [
      "R-squared: 0.6620052929422553\n"
     ]
    }
   ],
   "source": [
    "from sklearn.metrics import r2_score\n",
    "y_pred = model.predict (X_test)\n",
    "\n",
    "r_squared = r2_score(y_test, y_pred)\n",
    "print(f'R-squared: {r_squared}')"
   ]
  },
  {
   "cell_type": "code",
   "execution_count": 108,
   "id": "57c9a91f-900e-422f-9b68-33e663f3840f",
   "metadata": {},
   "outputs": [
    {
     "name": "stdout",
     "output_type": "stream",
     "text": [
      "ss_res: 19.1980993608799\n"
     ]
    }
   ],
   "source": [
    "ss_res=sum([(y_i-model.predict(x_i.reshape(-1,1))[0])**2\n",
    "            for x_i, y_i in zip(X_test, y_test)])\n",
    "\n",
    "print(f'ss_res: {ss_res}')"
   ]
  },
  {
   "cell_type": "code",
   "execution_count": 120,
   "id": "cfea58cc-1da2-4736-a1cf-67996450cb40",
   "metadata": {},
   "outputs": [
    {
     "name": "stdout",
     "output_type": "stream",
     "text": [
      "ss_tot: [2.8899999999999975, 17.639999999999993, 5.290000000000004, 28.090000000000007, 2.8899999999999975]\n"
     ]
    }
   ],
   "source": [
    "mean_y = np.mean(y_test)\n",
    "ss_tot = sum=([(y_i-mean_y)**2 for y_i in y_test])\n",
    "\n",
    "print(f'ss_tot: {ss_tot}')"
   ]
  },
  {
   "cell_type": "code",
   "execution_count": 122,
   "id": "bd1c2730-c642-4559-a8db-f9d047341516",
   "metadata": {},
   "outputs": [
    {
     "name": "stdout",
     "output_type": "stream",
     "text": [
      "R-squared: [-5.64294096 -0.08832763 -2.62913031  0.3165504  -5.64294096]\n"
     ]
    }
   ],
   "source": [
    "r_squared = 1- (ss_res/ss_tot)\n",
    "\n",
    "print(f'R-squared: {r_squared}')"
   ]
  }
 ],
 "metadata": {
  "kernelspec": {
   "display_name": "anaconda-2024.02-py310",
   "language": "python",
   "name": "conda-env-anaconda-2024.02-py310-py"
  },
  "language_info": {
   "codemirror_mode": {
    "name": "ipython",
    "version": 3
   },
   "file_extension": ".py",
   "mimetype": "text/x-python",
   "name": "python",
   "nbconvert_exporter": "python",
   "pygments_lexer": "ipython3",
   "version": "3.10.14"
  }
 },
 "nbformat": 4,
 "nbformat_minor": 5
}
