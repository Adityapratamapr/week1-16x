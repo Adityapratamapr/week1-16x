{
 "cells": [
  {
   "cell_type": "code",
   "execution_count": 2,
   "id": "49cd515b-000d-4f36-9a8c-680ff5a1190b",
   "metadata": {},
   "outputs": [
    {
     "data": {
      "text/html": [
       "<div>\n",
       "<style scoped>\n",
       "    .dataframe tbody tr th:only-of-type {\n",
       "        vertical-align: middle;\n",
       "    }\n",
       "\n",
       "    .dataframe tbody tr th {\n",
       "        vertical-align: top;\n",
       "    }\n",
       "\n",
       "    .dataframe thead th {\n",
       "        text-align: right;\n",
       "    }\n",
       "</style>\n",
       "<table border=\"1\" class=\"dataframe\">\n",
       "  <thead>\n",
       "    <tr style=\"text-align: right;\">\n",
       "      <th></th>\n",
       "      <th>di ameter</th>\n",
       "      <th>n_topping</th>\n",
       "      <th>harga</th>\n",
       "    </tr>\n",
       "  </thead>\n",
       "  <tbody>\n",
       "    <tr>\n",
       "      <th>0</th>\n",
       "      <td>6</td>\n",
       "      <td>2</td>\n",
       "      <td>7.0</td>\n",
       "    </tr>\n",
       "    <tr>\n",
       "      <th>1</th>\n",
       "      <td>8</td>\n",
       "      <td>1</td>\n",
       "      <td>9.0</td>\n",
       "    </tr>\n",
       "    <tr>\n",
       "      <th>2</th>\n",
       "      <td>10</td>\n",
       "      <td>0</td>\n",
       "      <td>13.0</td>\n",
       "    </tr>\n",
       "    <tr>\n",
       "      <th>3</th>\n",
       "      <td>14</td>\n",
       "      <td>2</td>\n",
       "      <td>17.5</td>\n",
       "    </tr>\n",
       "    <tr>\n",
       "      <th>4</th>\n",
       "      <td>18</td>\n",
       "      <td>0</td>\n",
       "      <td>18.0</td>\n",
       "    </tr>\n",
       "  </tbody>\n",
       "</table>\n",
       "</div>"
      ],
      "text/plain": [
       "   di ameter  n_topping  harga\n",
       "0          6          2    7.0\n",
       "1          8          1    9.0\n",
       "2         10          0   13.0\n",
       "3         14          2   17.5\n",
       "4         18          0   18.0"
      ]
     },
     "execution_count": 2,
     "metadata": {},
     "output_type": "execute_result"
    }
   ],
   "source": [
    "import pandas as pd\n",
    "pizza = {'di ameter': [6, 8, 10, 14, 18],\n",
    "'n_topping': [2, 1, 0, 2, 0],\n",
    "'harga' : [7, 9, 13, 17.5, 18]}\n",
    "train_pizza_df = pd.DataFrame (pizza)\n",
    "train_pizza_df"
   ]
  },
  {
   "cell_type": "code",
   "execution_count": 10,
   "id": "2fd472a0-e488-4bf1-b4e8-e4622f0f8b11",
   "metadata": {},
   "outputs": [
    {
     "name": "stdout",
     "output_type": "stream",
     "text": [
      "   diameter  n_topping  harga\n",
      "0         8          2   11.0\n",
      "1         9          1    8.5\n",
      "2        11          2   15.0\n",
      "3        16          2   18.0\n",
      "4        12          0   11.0\n"
     ]
    }
   ],
   "source": [
    "import pandas as pd\n",
    "\n",
    "pizza = {\n",
    "    'diameter': [8, 9, 11, 16, 12],\n",
    "    'n_topping': [2, 1, 2, 2, 0],\n",
    "    'harga': [11, 8.5, 15, 18, 11]\n",
    "}\n",
    "\n",
    "test_pizza_df = pd.DataFrame(pizza)\n",
    "print(test_pizza_df)\n"
   ]
  },
  {
   "cell_type": "code",
   "execution_count": 18,
   "id": "64ed4051-56d8-4edc-a73f-82f2a75ff25a",
   "metadata": {},
   "outputs": [
    {
     "name": "stdout",
     "output_type": "stream",
     "text": [
      "X_test: \n",
      "[[ 8  2]\n",
      " [ 9  1]\n",
      " [11  2]\n",
      " [16  2]\n",
      " [12  0]] \n",
      "\n",
      "y_test: \n",
      "[11.   8.5 15.  18.  11. ]\n"
     ]
    }
   ],
   "source": [
    "import numpy as np\n",
    "\n",
    "\n",
    "X_test = np.array(test_pizza_df[['diameter', 'n_topping']])\n",
    "y_test = np.array(test_pizza_df['harga'])\n",
    "\n",
    "print(f'X_test: \\n{X_test} \\n')\n",
    "print(f'y_test: \\n{y_test}')\n"
   ]
  }
 ],
 "metadata": {
  "kernelspec": {
   "display_name": "Python 3 (ipykernel)",
   "language": "python",
   "name": "python3"
  },
  "language_info": {
   "codemirror_mode": {
    "name": "ipython",
    "version": 3
   },
   "file_extension": ".py",
   "mimetype": "text/x-python",
   "name": "python",
   "nbconvert_exporter": "python",
   "pygments_lexer": "ipython3",
   "version": "3.11.7"
  }
 },
 "nbformat": 4,
 "nbformat_minor": 5
}
