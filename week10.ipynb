{
 "cells": [
  {
   "cell_type": "code",
   "execution_count": 5,
   "id": "88f89b7d-eb11-4207-9548-d51d318acd61",
   "metadata": {},
   "outputs": [
    {
     "data": {
      "text/plain": [
       "['Linux has been around since the mid-1990s.',\n",
       " 'Linux distributions include the Linux kernel.',\n",
       " 'Linux is one of the most prominent open-source software.']"
      ]
     },
     "execution_count": 5,
     "metadata": {},
     "output_type": "execute_result"
    }
   ],
   "source": [
    "corpus = [\n",
    "\n",
    "'Linux has been around since the mid-1990s.',\n",
    "'Linux distributions include the Linux kernel.',\n",
    "'Linux is one of the most prominent open-source software.'\n",
    "\n",
    "]    \n",
    "\n",
    "corpus"
   ]
  },
  {
   "cell_type": "code",
   "execution_count": 17,
   "id": "f78fbb71-e650-4446-8c11-65d9548cb3fa",
   "metadata": {},
   "outputs": [
    {
     "data": {
      "text/plain": [
       "matrix([[0, 1, 1, 1, 0, 0, 1, 0, 1],\n",
       "        [0, 2, 0, 1, 0, 1, 1, 0, 1],\n",
       "        [1, 0, 0, 1, 1, 0, 1, 1, 1],\n",
       "        [0, 1, 1, 1, 0, 0, 1, 0, 1]])"
      ]
     },
     "execution_count": 17,
     "metadata": {},
     "output_type": "execute_result"
    }
   ],
   "source": [
    "from sklearn.feature_extraction.text import CountVectorizer\n",
    "\n",
    "\n",
    "vectorizer = CountVectorizer()\n",
    "vectorized_X = vectorizer.fit_transform(corpus).todense()\n",
    "vectorized_X\n"
   ]
  },
  {
   "cell_type": "code",
   "execution_count": 101,
   "id": "3497c296-ad8c-4a42-8d0f-3d9b92945651",
   "metadata": {},
   "outputs": [],
   "source": [
    "feature_names = vectorizer.get_feature_names_out()\n"
   ]
  },
  {
   "cell_type": "code",
   "execution_count": null,
   "id": "2971fea4-6621-4959-8a4d-9e9876898db5",
   "metadata": {},
   "outputs": [],
   "source": [
    "from sklearn.metrics.pairwise import euclidean_distances\n",
    "import numpy as np\n",
    "\n",
    "\n",
    "vectorized_X = np.array([\n",
    "    [1, 2, 3],\n",
    "    [4, 5, 6],\n",
    "    [7, 8, 9]\n",
    "])\n",
    "\n",
    "n_docs = len(vectorized_X)\n",
    "\n",
    "for i in range(n_docs):\n",
    "    for j in range(i + 1, n_docs):  \n",
    "        jarak = euclidean_distances(vectorized_X[i].reshape(1, -1), vectorized_X[j].reshape(1, -1))\n",
    "        print(f'Jarak dokumen {i+1} dan {j+1}: {jarak}')\n",
    "\n",
    "\n",
    "\n",
    "feature_names = vectorizer.get_feature_names()\n",
    "feature_to_index = {feature: idx for idx, feature in enumerate(feature_names)}\n"
   ]
  },
  {
   "cell_type": "code",
   "execution_count": 143,
   "id": "89170477-01f6-402b-8feb-bc6a4d5b90c3",
   "metadata": {},
   "outputs": [
    {
     "name": "stdout",
     "output_type": "stream",
     "text": [
      "Feature Names: ['ate' 'away' 'cat' 'end' 'finally' 'house' 'little' 'mouse' 'ran' 'saw']\n",
      "Feature to Index Mapping: {'ate': 0, 'away': 1, 'cat': 2, 'end': 3, 'finally': 4, 'house': 5, 'little': 6, 'mouse': 7, 'ran': 8, 'saw': 9}\n"
     ]
    }
   ],
   "source": [
    "from sklearn.feature_extraction.text import CountVectorizer\n",
    "\n",
    "\n",
    "corpus = [\n",
    "    'ate away cat end',\n",
    "    'finally house little mouse',\n",
    "    'ran saw'\n",
    "]\n",
    "\n",
    "\n",
    "vectorizer = CountVectorizer()\n",
    "\n",
    "\n",
    "X = vectorizer.fit_transform(corpus)\n",
    "\n",
    "\n",
    "feature_names = vectorizer.get_feature_names_out()\n",
    "\n",
    "\n",
    "feature_to_index = {feature: idx for idx, feature in enumerate(feature_names)}\n",
    "\n",
    "print(\"Feature Names:\", feature_names)\n",
    "print(\"Feature to Index Mapping:\", feature_to_index)\n"
   ]
  },
  {
   "cell_type": "code",
   "execution_count": null,
   "id": "0c6ad59d-8b41-42ac-8f2a-b52a679d632e",
   "metadata": {},
   "outputs": [],
   "source": []
  }
 ],
 "metadata": {
  "kernelspec": {
   "display_name": "anaconda-2024.02-py310",
   "language": "python",
   "name": "conda-env-anaconda-2024.02-py310-py"
  },
  "language_info": {
   "codemirror_mode": {
    "name": "ipython",
    "version": 3
   },
   "file_extension": ".py",
   "mimetype": "text/x-python",
   "name": "python",
   "nbconvert_exporter": "python",
   "pygments_lexer": "ipython3",
   "version": "3.10.14"
  }
 },
 "nbformat": 4,
 "nbformat_minor": 5
}
