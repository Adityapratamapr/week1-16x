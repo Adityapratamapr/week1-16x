{
 "cells": [
  {
   "cell_type": "code",
   "execution_count": 7,
   "id": "fb9f04b6-70b9-4d0e-a54b-a0c7ab9fdaa2",
   "metadata": {},
   "outputs": [
    {
     "name": "stdout",
     "output_type": "stream",
     "text": [
      "   tinggi      jk  berat\n",
      "0     158    pria     64\n",
      "1     170    pria     86\n",
      "2     183    pria     84\n",
      "3     191    pria     80\n",
      "4     155  wanita     49\n",
      "5     163  wanita     59\n",
      "6     180  wanita     67\n",
      "7     158  wanita     54\n",
      "8     170  wanita     67\n"
     ]
    }
   ],
   "source": [
    "import pandas as pd\n",
    "\n",
    "sensus = {\n",
    "    'tinggi': [158, 170, 183, 191, 155, 163, 180, 158, 170],\n",
    "    'jk': ['pria', 'pria', 'pria', 'pria', 'wanita', 'wanita', 'wanita', 'wanita', 'wanita'],\n",
    "    'berat': [64, 86, 84, 80, 49, 59, 67, 54, 67]\n",
    "}\n",
    "\n",
    "sensus_df = pd.DataFrame(sensus)\n",
    "print(sensus_df)\n"
   ]
  },
  {
   "cell_type": "code",
   "execution_count": 11,
   "id": "28c15b29-c6cd-4c45-a005-acf5052aee6e",
   "metadata": {},
   "outputs": [
    {
     "name": "stdout",
     "output_type": "stream",
     "text": [
      "Index(['tinggi', 'jk', 'berat'], dtype='object')\n",
      "X_train:\n",
      "[[158 'pria']\n",
      " [170 'pria']\n",
      " [183 'pria']\n",
      " [191 'pria']\n",
      " [155 'wanita']\n",
      " [163 'wanita']\n",
      " [180 'wanita']\n",
      " [158 'wanita']\n",
      " [170 'wanita']] \n",
      "\n",
      "y_train: [64 86 84 80 49 59 67 54 67]\n"
     ]
    }
   ],
   "source": [
    "import numpy as np\n",
    "\n",
    "\n",
    "print(sensus_df.columns)\n",
    "\n",
    "\n",
    "X_train = np.array(sensus_df[['tinggi', 'jk']])\n",
    "y_train = np.array(sensus_df['berat'])\n",
    "\n",
    "print(f'X_train:\\n{X_train} \\n')\n",
    "print(f'y_train: {y_train}')\n",
    "\n"
   ]
  },
  {
   "cell_type": "code",
   "execution_count": 19,
   "id": "15d91923-f9f6-424d-9311-27265f64c37a",
   "metadata": {},
   "outputs": [
    {
     "name": "stdout",
     "output_type": "stream",
     "text": [
      "jk: ['a' 'b' 'a' 'c'] \n",
      "\n",
      "jk_binarised:\n",
      "[[1 0 0]\n",
      " [0 1 0]\n",
      " [1 0 0]\n",
      " [0 0 1]]\n",
      "jk_binarised flattened:\n",
      "[1 0 0 0 1 0 1 0 0 0 0 1]\n"
     ]
    }
   ],
   "source": [
    "from sklearn.preprocessing import LabelBinarizer\n",
    "import numpy as np\n",
    "\n",
    "\n",
    "X_train_transposed = np.array([\n",
    "    [1, 2, 3, 4],\n",
    "    ['a', 'b', 'a', 'c']\n",
    "])\n",
    "\n",
    "lb = LabelBinarizer()\n",
    "jk_binarised = lb.fit_transform(X_train_transposed[1])\n",
    "print(f'jk: {X_train_transposed[1]} \\n')\n",
    "print(f'jk_binarised:\\n{jk_binarised}')\n",
    "\n",
    "\n",
    "jk_binarised = jk_binarised.flatten()\n",
    "print(f'jk_binarised flattened:\\n{jk_binarised}')\n"
   ]
  },
  {
   "cell_type": "code",
   "execution_count": null,
   "id": "05603ebc-b97b-41ff-b44c-79551ebc74ad",
   "metadata": {},
   "outputs": [],
   "source": []
  }
 ],
 "metadata": {
  "kernelspec": {
   "display_name": "Python 3 (ipykernel)",
   "language": "python",
   "name": "python3"
  },
  "language_info": {
   "codemirror_mode": {
    "name": "ipython",
    "version": 3
   },
   "file_extension": ".py",
   "mimetype": "text/x-python",
   "name": "python",
   "nbconvert_exporter": "python",
   "pygments_lexer": "ipython3",
   "version": "3.11.7"
  }
 },
 "nbformat": 4,
 "nbformat_minor": 5
}
